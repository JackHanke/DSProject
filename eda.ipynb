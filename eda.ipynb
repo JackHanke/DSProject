{
 "cells": [
  {
   "cell_type": "markdown",
   "metadata": {},
   "source": [
    "## Exploratory Data Analysis \n",
    "*This file was written by Nicole and reformatted by Jack.*\n",
    "\n",
    "This `.ipynb` file examines the raw data, and was used to inform the `PreProcessing Pipeline` class in `data/preprocess_data.py`. We begin by importing the necessary libraries."
   ]
  },
  {
   "cell_type": "code",
   "execution_count": 1,
   "metadata": {},
   "outputs": [],
   "source": [
    "import pandas as pd\n",
    "import matplotlib.pyplot as plt\n",
    "import seaborn as sns\n",
    "from sklearn.manifold import TSNE\n",
    "\n",
    "import warnings\n",
    "warnings.filterwarnings(\"ignore\")"
   ]
  },
  {
   "cell_type": "markdown",
   "metadata": {},
   "source": [
    "We read in the `data.parquet` and `labels.parquet` files, encode the specific cancer labels numerically with the `encoding_dict` specified in the `README.md` file, and merge the two datasets together."
   ]
  },
  {
   "cell_type": "code",
   "execution_count": null,
   "metadata": {},
   "outputs": [],
   "source": [
    "data = pd.read_parquet('./data/data.parquet')\n",
    "labels = pd.read_parquet('./data/labels.parquet')\n",
    "\n",
    "encoding_dict = {\n",
    "    'BRCA': 0,\n",
    "    'KIRC': 1,\n",
    "    'COAD': 2,\n",
    "    'LUAD': 3,\n",
    "    'PRAD': 4\n",
    "}\n",
    "\n",
    "labels['Class'] = labels['Class'].map(encoding_dict)\n",
    "\n",
    "data.rename(columns={'Unnamed: 0': 'sample_id'}, inplace=True)\n",
    "labels.rename(columns={'Unnamed: 0': 'sample_id'}, inplace=True)\n",
    "\n",
    "merged_data = pd.merge(labels, data, on='sample_id')\n",
    "data = data.drop(columns=['sample_id'])\n",
    "labels = labels.drop(columns=['sample_id'])\n",
    "\n",
    "merged_data.head()"
   ]
  },
  {
   "cell_type": "markdown",
   "metadata": {},
   "source": [
    "We examine the size of the activations across subjects for all genes tested (the sum of each column)."
   ]
  },
  {
   "cell_type": "code",
   "execution_count": null,
   "metadata": {},
   "outputs": [],
   "source": [
    "def examine_column_sums(merged_data):\n",
    "    numeric_df = merged_data.select_dtypes(include=['number'])\n",
    "    column_sums = numeric_df.sum()\n",
    "\n",
    "    plt.figure(figsize=(6, 4))\n",
    "    plt.hist(column_sums, bins=10, edgecolor='black')\n",
    "    plt.title('Distribution of Column Sums')\n",
    "    plt.xlabel('Sum')\n",
    "    plt.ylabel('Frequency')\n",
    "    plt.grid(True)\n",
    "    plt.show()\n",
    "\n",
    "    q1 = column_sums.quantile(0.25)\n",
    "    q2 = column_sums.quantile(0.50)  \n",
    "    q3 = column_sums.quantile(0.75)\n",
    "    iqr = q3 - q1\n",
    "\n",
    "    print(\"Quartile Ranges:\")\n",
    "    print(f\"Q1 (25th percentile): {q1}\")\n",
    "    print(f\"Median (50th percentile): {q2}\")\n",
    "    print(f\"Q3 (75th percentile): {q3}\")\n",
    "    print(f\"Interquartile Range (IQR): {iqr}\")\n",
    "\n",
    "    plt.figure(figsize=(6, 4))\n",
    "    plt.boxplot(column_sums, vert=False)\n",
    "    plt.title('Box Plot of Column Sums')\n",
    "    plt.xlabel('Sum')\n",
    "    plt.show()\n",
    "\n",
    "    return column_sums\n",
    "\n",
    "column_sums = examine_column_sums(merged_data=merged_data)"
   ]
  },
  {
   "cell_type": "code",
   "execution_count": null,
   "metadata": {},
   "outputs": [],
   "source": [
    "print(\"Columns that sum to zero:\")\n",
    "filtered_columns = column_sums[column_sums == 0]\n",
    "# print(filtered_columns)\n",
    "print(\"Number of features that are all zeroes:\", len(filtered_columns))"
   ]
  },
  {
   "cell_type": "markdown",
   "metadata": {},
   "source": [
    "There are a substantial number (267) of genes who show zero activation across all subjects, so we drop these from our analysis. We add this to our preprocessor. "
   ]
  },
  {
   "cell_type": "code",
   "execution_count": null,
   "metadata": {},
   "outputs": [],
   "source": [
    "merged_data = merged_data.drop(columns = filtered_columns.index)\n",
    "data = data.drop(columns = filtered_columns.index)\n",
    "merged_data.head()"
   ]
  },
  {
   "cell_type": "markdown",
   "metadata": {},
   "source": [
    "We next examine how this change effects the distribution of sums of activations over patients."
   ]
  },
  {
   "cell_type": "code",
   "execution_count": null,
   "metadata": {},
   "outputs": [],
   "source": [
    "column_sums = examine_column_sums(merged_data=merged_data)"
   ]
  },
  {
   "cell_type": "markdown",
   "metadata": {},
   "source": [
    "This change only has a small effect on the overall shape of the distribution.\n",
    "\n",
    "We next examine the distribution of cancer labels across subjects."
   ]
  },
  {
   "cell_type": "code",
   "execution_count": null,
   "metadata": {},
   "outputs": [],
   "source": [
    "plt.figure(figsize=(8, 6))\n",
    "sns.countplot(x=labels['Class'], palette='viridis')\n",
    "plt.title('Distribution of Cancer Types')\n",
    "plt.xlabel('Cancer Type (Encoded)')\n",
    "plt.ylabel('Count')\n",
    "plt.xticks(ticks=[0, 1, 2, 3, 4], labels=['BRCA', 'KIRC', 'COAD', 'LUAD', 'PRAD'])\n",
    "plt.show()"
   ]
  },
  {
   "cell_type": "markdown",
   "metadata": {},
   "source": [
    "Subjects with breast cancer (BRCA) appear most frequently in our dataset. Kidney (KIRC), lung (LUAD), and prostate (PRAD) cancer appear in similar frequencies. Subjects with colon cancer (COAD) appear least frequently."
   ]
  },
  {
   "cell_type": "code",
   "execution_count": null,
   "metadata": {},
   "outputs": [],
   "source": [
    "tsne = TSNE(n_components=2, random_state=42, perplexity=30)\n",
    "data_tsne = tsne.fit_transform(data)\n",
    "\n",
    "plt.figure(figsize=(8, 6))\n",
    "sns.scatterplot(x=data_tsne[:, 0], y=data_tsne[:, 1], hue=labels['Class'], palette='viridis', legend='full')\n",
    "plt.title('t-SNE Visualization')\n",
    "plt.xlabel('Dimension 1')\n",
    "plt.ylabel('Dimension 2')\n",
    "plt.legend(title='Cancer Type', labels=['BRCA', 'KIRC', 'COAD', 'LUAD', 'PRAD'])\n",
    "plt.show()"
   ]
  },
  {
   "cell_type": "markdown",
   "metadata": {},
   "source": [
    "Using t-SNE Visualization, we can see that the data is distinctly clustered. From this we believe clustering algorithms will perform well for classification.\n",
    "\n",
    "In fact, the clustering is so distinct that it is likely that the single PRAD datapoint in the KIRC cluster is an incorrect labelling. However, we decide to not treat this as an outlier, and instead leave it as-is in our analysis, as the apparent mislabelling may just be due to our low-dimension projection. "
   ]
  },
  {
   "cell_type": "markdown",
   "metadata": {},
   "source": [
    "## Conclusions\n",
    "\n",
    "We decide to remove the all zero columns for our analysis.  "
   ]
  },
  {
   "cell_type": "code",
   "execution_count": null,
   "metadata": {},
   "outputs": [
    {
     "name": "stdout",
     "output_type": "stream",
     "text": [
      "<class 'str'>\n"
     ]
    },
    {
     "data": {
      "text/plain": [
       "'CDX1|1044'"
      ]
     },
     "execution_count": 38,
     "metadata": {},
     "output_type": "execute_result"
    }
   ],
   "source": [
    "def get_gene_id(index):\n",
    "    # csv file made from original data source file unc.edu_PANCAN_IlluminaGA_RNASeqV2.geneExp.tsv at https://www.synapse.org/#!Synapse:syn4301332\n",
    "    df = pd.read_csv('gene_ids.csv') \n",
    "    result = df.loc[df['dummy_id'] == index]\n",
    "    return result['gene_id'].values[0]\n",
    "get_gene_id(3523)"
   ]
  }
 ],
 "metadata": {
  "kernelspec": {
   "display_name": "msai339",
   "language": "python",
   "name": "python3"
  },
  "language_info": {
   "codemirror_mode": {
    "name": "ipython",
    "version": 3
   },
   "file_extension": ".py",
   "mimetype": "text/x-python",
   "name": "python",
   "nbconvert_exporter": "python",
   "pygments_lexer": "ipython3",
   "version": "3.10.14"
  }
 },
 "nbformat": 4,
 "nbformat_minor": 2
}
